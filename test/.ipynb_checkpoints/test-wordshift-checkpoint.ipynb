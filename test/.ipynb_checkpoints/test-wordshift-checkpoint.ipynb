{
 "cells": [
  {
   "cell_type": "code",
   "execution_count": null,
   "metadata": {
    "collapsed": false,
    "deletable": true,
    "editable": true
   },
   "outputs": [],
   "source": [
    "import sys\n",
    "# get this module\n",
    "sys.path.append(\"..\")\n",
    "# need the virtual env packages\n",
    "sys.path.append(\"../pyenv/lib/python3.6/site-packages\")"
   ]
  },
  {
   "cell_type": "code",
   "execution_count": null,
   "metadata": {
    "collapsed": false,
    "deletable": true,
    "editable": true
   },
   "outputs": [],
   "source": [
    "from sentidict.utils import *\n",
    "from sentidict.dictionaries import *\n",
    "from sentidict.functions import *\n",
    "from sentidict.wordshifts import *\n",
    "import  numpy as np\n",
    "from scipy.sparse import csr_matrix,issparse\n",
    "# import subprocess\n",
    "# import codecs\n",
    "from json import loads"
   ]
  },
  {
   "cell_type": "code",
   "execution_count": null,
   "metadata": {
    "collapsed": true,
    "deletable": true,
    "editable": true
   },
   "outputs": [],
   "source": [
    "my_labMT = LabMT()"
   ]
  },
  {
   "cell_type": "code",
   "execution_count": null,
   "metadata": {
    "collapsed": true,
    "deletable": true,
    "editable": true
   },
   "outputs": [],
   "source": [
    "ref_dict = {\"the\": 1, \"dude\": 1, \"abides\": 1, \"laughs\": 1}\n",
    "comp_dict = {\"the\": 1, \"dude\": 1, \"does\": 1, \"not\": 1, \"abide\": 1}\n",
    "ref_word_vec = my_labMT.wordVecify(ref_dict)\n",
    "ref_word_vec_stopped = my_labMT.stopper(ref_word_vec,stopVal=1.0)\n",
    "comp_word_vec = my_labMT.wordVecify(comp_dict)\n",
    "comp_word_vec_stopped = my_labMT.stopper(comp_word_vec,stopVal=1.0)"
   ]
  },
  {
   "cell_type": "code",
   "execution_count": null,
   "metadata": {
    "collapsed": false,
    "deletable": true,
    "editable": true
   },
   "outputs": [],
   "source": [
    "shiftHtmlJupyter(my_labMT.scorelist,\n",
    "          my_labMT.wordlist,\n",
    "          ref_word_vec_stopped,\n",
    "          comp_word_vec_stopped)"
   ]
  },
  {
   "cell_type": "code",
   "execution_count": null,
   "metadata": {
    "collapsed": false,
    "deletable": true,
    "editable": true
   },
   "outputs": [],
   "source": [
    "shiftHtmlJupyterSentidict(my_labMT,\n",
    "          comp_word_vec_stopped,\n",
    "          ref_word_vec_stopped)"
   ]
  },
  {
   "cell_type": "code",
   "execution_count": null,
   "metadata": {
    "collapsed": false,
    "deletable": true,
    "editable": true
   },
   "outputs": [],
   "source": [
    "HTML(body)"
   ]
  },
  {
   "cell_type": "code",
   "execution_count": null,
   "metadata": {
    "collapsed": false,
    "deletable": true,
    "editable": true
   },
   "outputs": [],
   "source": [
    "Javascript(js)"
   ]
  },
  {
   "cell_type": "code",
   "execution_count": null,
   "metadata": {
    "collapsed": true,
    "deletable": true,
    "editable": true
   },
   "outputs": [],
   "source": []
  }
 ],
 "metadata": {
  "kernelspec": {
   "display_name": "Python 3",
   "language": "python",
   "name": "python3"
  },
  "language_info": {
   "codemirror_mode": {
    "name": "ipython",
    "version": 3
   },
   "file_extension": ".py",
   "mimetype": "text/x-python",
   "name": "python",
   "nbconvert_exporter": "python",
   "pygments_lexer": "ipython3",
   "version": "3.6.0"
  }
 },
 "nbformat": 4,
 "nbformat_minor": 2
}
